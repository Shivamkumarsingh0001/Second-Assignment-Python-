{
 "cells": [
  {
   "cell_type": "code",
   "execution_count": 4,
   "id": "1ac40891-9250-45fe-bd38-e275c489f808",
   "metadata": {},
   "outputs": [
    {
     "data": {
      "text/plain": [
       "'Ans --> Python string slicing is a feature that allows you to access and manipulate specific parts of a string. It\\'s like having a precise knife to cut out any  part of a string you need. For more advance methods and in depth understanding, countinue reading the article.\"\\nPython offers two primary methods for string slicing: the slice ( ) function and array slicing. The syntax of both is simple and intuitive contributing to Python\\'s popularity among developers.\\n\\nBoth methods use square bracket [ ]. Inside these brackets, you specify the start and end indices slice. The start index included while the end index is excluded.'"
      ]
     },
     "execution_count": 4,
     "metadata": {},
     "output_type": "execute_result"
    }
   ],
   "source": [
    "#Question 1 --> Discuss string slicing and provide examples.\n",
    "\n",
    "\"\"\"Ans --> Python string slicing is a feature that allows you to access and manipulate specific parts of a string. It's like having a precise knife to cut out any  part of a string you need. For more advance methods and in depth understanding, countinue reading the article.\"\n",
    "Python offers two primary methods for string slicing: the slice ( ) function and array slicing. The syntax of both is simple and intuitive contributing to Python's popularity among developers.\n",
    "\n",
    "Both methods use square bracket [ ]. Inside these brackets, you specify the start and end indices slice. The start index included while the end index is excluded.\"\"\""
   ]
  },
  {
   "cell_type": "code",
   "execution_count": 7,
   "id": "ea955a84-fa64-41ae-8f9c-1ad1d835b941",
   "metadata": {},
   "outputs": [
    {
     "name": "stdout",
     "output_type": "stream",
     "text": [
      "H\n",
      "P\n",
      "Y\n",
      "L\n"
     ]
    }
   ],
   "source": [
    "#example of string slicing--\n",
    "var = \"HELLO PYTHON\"\n",
    "print(var[0])\n",
    "print(var[6])\n",
    "print(var[7])\n",
    "print(var[2])"
   ]
  },
  {
   "cell_type": "code",
   "execution_count": 10,
   "id": "f0b8635f-4ae0-4f77-b2e6-8812f5649605",
   "metadata": {},
   "outputs": [
    {
     "data": {
      "text/plain": [
       "'Ans --> A list is a versatile data structure in Python that may hold a collection of objects of various data types. It is a mutable data type in Pyton, which means that its elements can be changed after they are created. Lists are represented by square brackets [ ] and their elements by commas.\\nKey Featurs of lists: Ordered, Mutable, Inedexing, Dynamic size, Slicing, Nested, Heterogeneous, Supports iteration.\\nSome common list operations include: Append, Insert, Remove, Pop, sort, Reverse. \\nThese features make lists a versatile and powerful data structure in Python.'"
      ]
     },
     "execution_count": 10,
     "metadata": {},
     "output_type": "execute_result"
    }
   ],
   "source": [
    "#Question 2 --> Explain the key features of lists in Python.\n",
    "\n",
    "\"\"\"Ans --> A list is a versatile data structure in Python that may hold a collection of objects of various data types. It is a mutable data type in Pyton, which means that its elements can be changed after they are created. Lists are represented by square brackets [ ] and their elements by commas.\n",
    "Key Featurs of lists: Ordered, Mutable, Inedexing, Dynamic size, Slicing, Nested, Heterogeneous, Supports iteration.\n",
    "Some common list operations include: Append, Insert, Remove, Pop, sort, Reverse. \n",
    "These features make lists a versatile and powerful data structure in Python.\"\"\""
   ]
  },
  {
   "cell_type": "code",
   "execution_count": 11,
   "id": "7da50a19-3317-44dc-9d88-6e3aa36cca1b",
   "metadata": {},
   "outputs": [
    {
     "data": {
      "text/plain": [
       "'Ans --> Lists are mutable, meaning that elements of lists can be changed once they have been assigned to variables. We can change an elements in a list, we can delete an entire list, and we can add and remove one element from a lists after assigning it to a variable.'"
      ]
     },
     "execution_count": 11,
     "metadata": {},
     "output_type": "execute_result"
    }
   ],
   "source": [
    "#Question 3 --> Describe how to access, modify, and delete elements in a list with examples.\n",
    "\n",
    "\"\"\"Ans --> Lists are mutable, meaning that elements of lists can be changed once they have been assigned to variables. We can change an elements in a list, we can delete an entire list, and we can add and remove one element from a lists after assigning it to a variable.\"\"\""
   ]
  },
  {
   "cell_type": "code",
   "execution_count": 21,
   "id": "a2c6c867-7204-4739-b968-5af75b2136bd",
   "metadata": {},
   "outputs": [
    {
     "name": "stdout",
     "output_type": "stream",
     "text": [
      "[1, 2, 4, 5]\n"
     ]
    }
   ],
   "source": [
    "#example of Remove (Delete) an element from the list:\n",
    "\n",
    "my_list = [1, 2, 3, 4, 5]\n",
    "my_list.remove(3)\n",
    "print (my_list)"
   ]
  },
  {
   "cell_type": "code",
   "execution_count": 24,
   "id": "c840cd18-67b0-4e56-bf95-2053e893d8bb",
   "metadata": {},
   "outputs": [
    {
     "name": "stdout",
     "output_type": "stream",
     "text": [
      "[1, 2, 15, 3, 4, 5]\n"
     ]
    }
   ],
   "source": [
    "#example of Modify an elements from the list:\n",
    "\n",
    "my_list = [1, 2 , 3, 4, 5]\n",
    "my_list.insert(2, 15)\n",
    "print (my_list)"
   ]
  },
  {
   "cell_type": "code",
   "execution_count": 25,
   "id": "2d85f0e0-8daa-4f8b-b4c1-c272b59c40da",
   "metadata": {},
   "outputs": [
    {
     "name": "stdout",
     "output_type": "stream",
     "text": [
      "4\n"
     ]
    }
   ],
   "source": [
    "#example of Accessing an elements from the list:\n",
    "\n",
    "my_list = [1, 2, 3, 4, 5]\n",
    "print (my_list[-2])"
   ]
  },
  {
   "cell_type": "code",
   "execution_count": 26,
   "id": "d843aedf-259a-4190-acd2-88ccaf607c60",
   "metadata": {},
   "outputs": [
    {
     "data": {
      "text/plain": [
       "'Ans --> Lists and Tuples are two distinct data atructures in Python, each with its own unique characteristics and use cases. The primary difference between them lies in their mutability. A list is mutable, meaning its elements can be modified, added, or removed after creation. On the other hand, a tuple is immutable, and once created, its elements cannot ne changed. This fundamental distinction impacts their behaviour and suitability for various programming scenarios.'"
      ]
     },
     "execution_count": 26,
     "metadata": {},
     "output_type": "execute_result"
    }
   ],
   "source": [
    "#Question 4 --> Compare and contrast tuples and lists with examples.\n",
    "\n",
    "\"\"\"Ans --> Lists and Tuples are two distinct data atructures in Python, each with its own unique characteristics and use cases. The primary difference between them lies in their mutability. A list is mutable, meaning its elements can be modified, added, or removed after creation. On the other hand, a tuple is immutable, and once created, its elements cannot ne changed. This fundamental distinction impacts their behaviour and suitability for various programming scenarios.\"\"\""
   ]
  },
  {
   "cell_type": "code",
   "execution_count": 29,
   "id": "89522542-28c3-4eb7-abcd-0c6692b77ed6",
   "metadata": {},
   "outputs": [
    {
     "name": "stdout",
     "output_type": "stream",
     "text": [
      "2\n"
     ]
    }
   ],
   "source": [
    "#example of lists (lists are mutable)\n",
    "\n",
    "my_list = [1, 2, 3, 4, 5]\n",
    "print (my_list[1])"
   ]
  },
  {
   "cell_type": "code",
   "execution_count": 33,
   "id": "62863a21-ad70-45de-b2f6-a0d96b0b3762",
   "metadata": {},
   "outputs": [
    {
     "ename": "TypeError",
     "evalue": "'tuple' object does not support item assignment",
     "output_type": "error",
     "traceback": [
      "\u001b[0;31m---------------------------------------------------------------------------\u001b[0m",
      "\u001b[0;31mTypeError\u001b[0m                                 Traceback (most recent call last)",
      "Cell \u001b[0;32mIn[33], line 4\u001b[0m\n\u001b[1;32m      1\u001b[0m \u001b[38;5;66;03m#example of tuple (tuple are immutable)\u001b[39;00m\n\u001b[1;32m      3\u001b[0m my_tuple \u001b[38;5;241m=\u001b[39m (\u001b[38;5;241m1\u001b[39m, \u001b[38;5;241m2\u001b[39m, \u001b[38;5;241m3\u001b[39m, \u001b[38;5;241m4\u001b[39m, \u001b[38;5;241m5\u001b[39m)\n\u001b[0;32m----> 4\u001b[0m \u001b[43mmy_tuple\u001b[49m\u001b[43m[\u001b[49m\u001b[38;5;241;43m0\u001b[39;49m\u001b[43m]\u001b[49m \u001b[38;5;241m=\u001b[39m \u001b[38;5;241m10\u001b[39m \u001b[38;5;66;03m#ERROR: Tuples are immutable, so modifying is not allowed.\u001b[39;00m\n",
      "\u001b[0;31mTypeError\u001b[0m: 'tuple' object does not support item assignment"
     ]
    }
   ],
   "source": [
    "#example of tuple (tuple are immutable)\n",
    "\n",
    "my_tuple = (1, 2, 3, 4, 5)\n",
    "my_tuple[0] = 10 #ERROR: Tuples are immutable, so modifying is not allowed.\n"
   ]
  },
  {
   "cell_type": "code",
   "execution_count": 2,
   "id": "1f388961-947d-474a-919d-81da3a83df2e",
   "metadata": {},
   "outputs": [
    {
     "data": {
      "text/plain": [
       "'Ans --> Sets are data structure in Python that have the following key features: \\n1: Unordered- Sets do not maintain the order of elements.\\n2: Unique elements- Sets only store unique elements, eliminating duplicates.\\n3: Mutable: Sets are mutable, meaning elements can be added or removed.\\n4: Fast membership testing: Checking if an element is in a set is fast, with an average time complexity of 0(1).'"
      ]
     },
     "execution_count": 2,
     "metadata": {},
     "output_type": "execute_result"
    }
   ],
   "source": [
    "#Question 5 --> Describe the key features of sets and provide examples of their use.\n",
    "\n",
    "\"\"\"Ans --> Sets are data structure in Python that have the following key features: \n",
    "1: Unordered- Sets do not maintain the order of elements.\n",
    "2: Unique elements- Sets only store unique elements, eliminating duplicates.\n",
    "3: Mutable: Sets are mutable, meaning elements can be added or removed.\n",
    "4: Fast membership testing: Checking if an element is in a set is fast, with an average time complexity of 0(1).\"\"\""
   ]
  },
  {
   "cell_type": "code",
   "execution_count": 4,
   "id": "20d7e8c5-0e7f-4da9-842e-9abffff6bece",
   "metadata": {},
   "outputs": [
    {
     "name": "stdout",
     "output_type": "stream",
     "text": [
      "{1, 2, 3, 4, 5}\n"
     ]
    }
   ],
   "source": [
    "#Here are some example of using sets:\n",
    "#Removing Duplicates example >>\n",
    "\n",
    "my_list = [1, 2, 3, 4, 5]\n",
    "my_set = set(my_list)\n",
    "print (my_set)"
   ]
  },
  {
   "cell_type": "code",
   "execution_count": 6,
   "id": "99edbe0d-5c3e-4170-9a9a-3e3dde4685a5",
   "metadata": {},
   "outputs": [
    {
     "name": "stdout",
     "output_type": "stream",
     "text": [
      "True\n"
     ]
    }
   ],
   "source": [
    "#Fast Membership Testing example >>\n",
    "\n",
    "my_set = {1, 2, 3, 4, 5}\n",
    "print (2 in my_set)"
   ]
  },
  {
   "cell_type": "code",
   "execution_count": 9,
   "id": "24233d74-6e20-4105-a82a-d548263bd5df",
   "metadata": {},
   "outputs": [
    {
     "name": "stdout",
     "output_type": "stream",
     "text": [
      "{1, 2, 3, 4, 5}\n"
     ]
    }
   ],
   "source": [
    "#Set Operations example >>\n",
    "\n",
    "set1 = {1, 2, 3}\n",
    "set2 = {3, 4, 5}\n",
    "print(set1.union(set2))"
   ]
  },
  {
   "cell_type": "code",
   "execution_count": 11,
   "id": "b2095a23-8342-4bc0-8b98-50b4b2181a73",
   "metadata": {},
   "outputs": [
    {
     "name": "stdout",
     "output_type": "stream",
     "text": [
      "{1, 2, 3, 4}\n"
     ]
    }
   ],
   "source": [
    "#Adding Elements example >>\n",
    "\n",
    "my_set = {1, 2, 3}\n",
    "my_set.add(4)\n",
    "print (my_set)"
   ]
  },
  {
   "cell_type": "code",
   "execution_count": 13,
   "id": "a07770e9-35d6-45c7-aa81-29bf35609f72",
   "metadata": {},
   "outputs": [
    {
     "name": "stdout",
     "output_type": "stream",
     "text": [
      "{1, 3, 4}\n"
     ]
    }
   ],
   "source": [
    "#Removing Elements example >>\n",
    "\n",
    "my_set.remove(2)\n",
    "print (my_set)"
   ]
  },
  {
   "cell_type": "code",
   "execution_count": 15,
   "id": "1ef4904a-e79b-4c03-9b2f-339af8d631a5",
   "metadata": {},
   "outputs": [
    {
     "data": {
      "text/plain": [
       "'Ans --> Tuples are used to store multiple items in a single variable. Tuple is one of 4 built-in data types in python used to store collection of data Tuple are suitable for immutable data, fast access and memory efficiency. A sets is a data collection type used in Python for storing multiple items in a single variable. They are useful for performing mathematical set operations like union, intersection, defference, and symmetric difference Sets are suitable for unique elements, fast membership testing, and set operations.'"
      ]
     },
     "execution_count": 15,
     "metadata": {},
     "output_type": "execute_result"
    }
   ],
   "source": [
    "#Question 6 --> Discuss the use cases of tuples and sets in python programing.\n",
    "\n",
    "\"\"\"Ans --> Tuples are used to store multiple items in a single variable. Tuple is one of 4 built-in data types in python used to store collection of data Tuple are suitable for immutable data, fast access and memory efficiency. A sets is a data collection type used in Python for storing multiple items in a single variable. They are useful for performing mathematical set operations like union, intersection, defference, and symmetric difference Sets are suitable for unique elements, fast membership testing, and set operations.\"\"\""
   ]
  },
  {
   "cell_type": "code",
   "execution_count": 17,
   "id": "19f1576f-da3e-4877-a7af-0638bcc558fa",
   "metadata": {},
   "outputs": [
    {
     "data": {
      "text/plain": [
       "\"Ans --> A dictionary in Python is a collection that is ordered, changeable, and does not allow duplicate keys. It is used to store data values in key-value pairs. Dictionaries are written with curly brackets{}. Here's how to add, modify, and delete items in dictionary.\""
      ]
     },
     "execution_count": 17,
     "metadata": {},
     "output_type": "execute_result"
    }
   ],
   "source": [
    "#Question 7 --> Describe how to add, modify, and delete items in a dictionary with examples.\n",
    "\n",
    "\"\"\"Ans --> A dictionary in Python is a collection that is ordered, changeable, and does not allow duplicate keys. It is used to store data values in key-value pairs. Dictionaries are written with curly brackets{}. Here's how to add, modify, and delete items in dictionary.\"\"\""
   ]
  },
  {
   "cell_type": "code",
   "execution_count": 21,
   "id": "956eac1e-32d7-4fff-8bb8-9cf07858d046",
   "metadata": {},
   "outputs": [
    {
     "name": "stdout",
     "output_type": "stream",
     "text": [
      "{'Name': 'Shivam', 'Age': 26, 'City': 'Delhi'}\n"
     ]
    }
   ],
   "source": [
    "#Example of Adding Item in Dictionary:\n",
    "\n",
    "my_dict = {'Name': 'Shivam', 'Age': 26}\n",
    "my_dict['City'] = 'Delhi'\n",
    "\n",
    "print (my_dict)"
   ]
  },
  {
   "cell_type": "code",
   "execution_count": 23,
   "id": "7e5a4d6e-bff6-4ded-b92f-bc4afb8fd4aa",
   "metadata": {},
   "outputs": [
    {
     "name": "stdout",
     "output_type": "stream",
     "text": [
      "{'Name': 'Shivam', 'Age': 27, 'City': 'Delhi'}\n"
     ]
    }
   ],
   "source": [
    "#Example of Modify an existing item Dictionary:\n",
    "\n",
    "my_dict['Age'] = 27\n",
    "print (my_dict)"
   ]
  },
  {
   "cell_type": "code",
   "execution_count": 24,
   "id": "34684338-a7b1-4e4c-9399-7523dddb12cc",
   "metadata": {},
   "outputs": [
    {
     "name": "stdout",
     "output_type": "stream",
     "text": [
      "{'Name': 'Shivam', 'Age': 27}\n"
     ]
    }
   ],
   "source": [
    "#Example of Delete an item in Dictionary:\n",
    "\n",
    "del my_dict['City']\n",
    "print (my_dict)"
   ]
  },
  {
   "cell_type": "code",
   "execution_count": 25,
   "id": "eff30303-b325-4fbd-9b58-9de6ab13bfd2",
   "metadata": {},
   "outputs": [
    {
     "data": {
      "text/plain": [
       "\"Ans --> In Python, dictionary keys must be immutable, meaning they cannot be changed after creation, This is important for several reasons:\\n1. Hashing: Dictionary keys are used to calculate a hash value, which determines the key's index in the dictionary. If keys were mutable, their hash value would change, making it impossible to retrieve the associated value.\\n2. Uniqueness: Immutable keys ensure that each key is unique, preventing duplicate keys and ensuring that each key-value pair is distinct.\\n3. Efficient lookups: Immutable keys enable efficient lookups, as the dictionary can use a hash table to store and retrievekey-value pairs.\""
      ]
     },
     "execution_count": 25,
     "metadata": {},
     "output_type": "execute_result"
    }
   ],
   "source": [
    "#Question 8 --> Discuss the importance of dictionary keys being immutable and provide examples.\n",
    "\n",
    "\"\"\"Ans --> In Python, dictionary keys must be immutable, meaning they cannot be changed after creation, This is important for several reasons:\n",
    "1. Hashing: Dictionary keys are used to calculate a hash value, which determines the key's index in the dictionary. If keys were mutable, their hash value would change, making it impossible to retrieve the associated value.\n",
    "2. Uniqueness: Immutable keys ensure that each key is unique, preventing duplicate keys and ensuring that each key-value pair is distinct.\n",
    "3. Efficient lookups: Immutable keys enable efficient lookups, as the dictionary can use a hash table to store and retrievekey-value pairs.\"\"\""
   ]
  },
  {
   "cell_type": "code",
   "execution_count": 31,
   "id": "a3a9a653-a46e-4a98-b5cf-9974a9d5be8b",
   "metadata": {},
   "outputs": [
    {
     "ename": "TypeError",
     "evalue": "unhashable type: 'list'",
     "output_type": "error",
     "traceback": [
      "\u001b[0;31m---------------------------------------------------------------------------\u001b[0m",
      "\u001b[0;31mTypeError\u001b[0m                                 Traceback (most recent call last)",
      "Cell \u001b[0;32mIn[31], line 18\u001b[0m\n\u001b[1;32m      1\u001b[0m \u001b[38;5;66;03m#Example of immutable types that can be used as dictionary keys:\u001b[39;00m\n\u001b[1;32m      2\u001b[0m \n\u001b[1;32m      3\u001b[0m \u001b[38;5;66;03m#Integers: 1, 2, 3, etc.\u001b[39;00m\n\u001b[0;32m   (...)\u001b[0m\n\u001b[1;32m     14\u001b[0m \n\u001b[1;32m     15\u001b[0m \u001b[38;5;66;03m#If you try to use a mutable type as a dictionary key, you'll get a TypeError : \u001b[39;00m\n\u001b[1;32m     16\u001b[0m \u001b[38;5;241m.\u001b[39m\u001b[38;5;241m.\u001b[39m\u001b[38;5;241m.\u001b[39m\n\u001b[0;32m---> 18\u001b[0m my_dict \u001b[38;5;241m=\u001b[39m {[\u001b[38;5;241m1\u001b[39m,\u001b[38;5;241m2\u001b[39m]:\u001b[38;5;124m'\u001b[39m\u001b[38;5;124mvalue\u001b[39m\u001b[38;5;124m'\u001b[39m}\n",
      "\u001b[0;31mTypeError\u001b[0m: unhashable type: 'list'"
     ]
    }
   ],
   "source": [
    "#Example of immutable types that can be used as dictionary keys:\n",
    "\n",
    "#Integers: 1, 2, 3, etc.\n",
    "#Floats: 1.0, 2.0, 3.5, etc.\n",
    "#Strings: 'hello' , 'world' , etc.\n",
    "#Tuples: (1, 2) , (3, 4) , etc. (Note: Tuplw\\es can only contain immutable elements)\n",
    "\n",
    "\n",
    "#Example of mutable types that cannot be used as dictionary keys:\n",
    "\n",
    "#Lists: [1, 2] , [3, 4] , etc.\n",
    "#Dictionaries: {'a' : 1} , {'b' : 2} , etc.\n",
    "#Sets: {1, 2} , {3, 4} , etc.\n",
    "\n",
    "#If you try to use a mutable type as a dictionary key, you'll get a TypeError : \n",
    "...\n",
    "\n",
    "my_dict = {[1,2]:'value'}"
   ]
  },
  {
   "cell_type": "code",
   "execution_count": 33,
   "id": "11d633b3-21b4-415f-aaad-e72b4d465911",
   "metadata": {},
   "outputs": [],
   "source": [
    "#To use a mutable type as a key, you can convert it to an immutable type, such as atuple:\n",
    "...\n",
    "\n",
    "my_dict = {(1, 2):'value'} #This works!"
   ]
  },
  {
   "cell_type": "code",
   "execution_count": null,
   "id": "1e38654f-9f02-45ed-a046-017d19086d11",
   "metadata": {},
   "outputs": [],
   "source": []
  }
 ],
 "metadata": {
  "kernelspec": {
   "display_name": "Python 3 (ipykernel)",
   "language": "python",
   "name": "python3"
  },
  "language_info": {
   "codemirror_mode": {
    "name": "ipython",
    "version": 3
   },
   "file_extension": ".py",
   "mimetype": "text/x-python",
   "name": "python",
   "nbconvert_exporter": "python",
   "pygments_lexer": "ipython3",
   "version": "3.10.8"
  }
 },
 "nbformat": 4,
 "nbformat_minor": 5
}
